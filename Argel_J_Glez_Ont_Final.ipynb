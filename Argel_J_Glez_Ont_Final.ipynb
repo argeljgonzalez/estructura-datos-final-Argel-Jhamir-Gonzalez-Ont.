{
  "nbformat": 4,
  "nbformat_minor": 0,
  "metadata": {
    "colab": {
      "provenance": [],
      "toc_visible": true
    },
    "kernelspec": {
      "name": "python3",
      "display_name": "Python 3"
    },
    "language_info": {
      "name": "python"
    }
  },
  "cells": [
    {
      "cell_type": "markdown",
      "source": [
        "# Two sum\n"
      ],
      "metadata": {
        "id": "M7Mn-9FpnVuy"
      }
    },
    {
      "cell_type": "code",
      "execution_count": 1,
      "metadata": {
        "colab": {
          "base_uri": "https://localhost:8080/"
        },
        "id": "hLk0My_agVCw",
        "outputId": "78c3fc43-bba9-4307-f551-47c9088caad3"
      },
      "outputs": [
        {
          "output_type": "stream",
          "name": "stdout",
          "text": [
            "[2, 4]\n"
          ]
        }
      ],
      "source": [
        "#Argel Jhamir Gonzalez Ontiveros\n",
        "#14571\n",
        "\n",
        "#Ejercicio: Two Sum optimizado\n",
        "#Es lento pero podria ser mas ya que usa o(n) y no o(n2) lo que lo hace mas rapido\n",
        "from typing import List\n",
        "class Solution:\n",
        "    def twoSum(self, nums: List[int], target: int) -> List[int]:\n",
        "        mapa = {}\n",
        "\n",
        "        for i, num in enumerate(nums):# Enumeramos los números para obtener tanto el índice como el valor\n",
        "            complemento = target - num\n",
        "\n",
        "            # Si el complemento ya está en el mapa, devolvemos los índices\n",
        "            if complemento in mapa:\n",
        "                return [mapa[complemento], i]\n",
        "\n",
        "            # Guardamos el valor actual y su índice\n",
        "            mapa[num] = i\n",
        "\n",
        "solu=Solution()\n",
        "nums= [3,8,12,15,7]\n",
        "target=19\n",
        "resultado=solu.twoSum(nums,target)\n",
        "print(resultado)\n"
      ]
    },
    {
      "cell_type": "code",
      "source": [
        "#Argel Jhamir Gonzalez Ontiveros\n",
        "#14571\n",
        "\n",
        "#Twosum: Fuerza Bruta\n",
        "#Complejidad: O(n2) ya que hace mas interaciones que en el que usamos hash por lo que es menos eficiente.\n",
        "\n",
        "from typing import List\n",
        "\n",
        "class Solution:\n",
        "    def twosum(self, nums: list[int], target: int) -> List[int]:\n",
        "        # Recorre cada número en la lista\n",
        "        for i in range(len(nums)):\n",
        "            # Recorre los números siguientes al actual (para no repetir combinaciones)\n",
        "            for j in range(i + 1, len(nums)):\n",
        "                # Si la suma de los dos números es igual al objetivo\n",
        "                if nums[j] == target - nums[i]:\n",
        "                    return [i, j]  # Devuelve los índices encontrados\n",
        "\n",
        "solu = Solution()\n",
        "nums = [3, 8, 12, 15, 7]\n",
        "target = 19\n",
        "resultado = solu.twosum(nums, target)\n",
        "print(resultado)"
      ],
      "metadata": {
        "colab": {
          "base_uri": "https://localhost:8080/"
        },
        "id": "_5m3ucIEmaoU",
        "outputId": "d1967b9a-a5f1-4d1a-9df2-f75022e26a3c"
      },
      "execution_count": 2,
      "outputs": [
        {
          "output_type": "stream",
          "name": "stdout",
          "text": [
            "[2, 4]\n"
          ]
        }
      ]
    },
    {
      "cell_type": "markdown",
      "source": [
        "#Palindrome Numbers\n"
      ],
      "metadata": {
        "id": "n35h2F2Inkj6"
      }
    },
    {
      "cell_type": "code",
      "source": [
        "#Argel Jhamir Gonzalez Ontiveros\n",
        "#14571\n",
        "\n",
        "# Ejercicio: Plindromos\n",
        "#complejidad: O(n) ya que recorre el string una vez para verificar si es palíndromo.\n",
        "class Solution:\n",
        "    def is_palindrome(self, z: int):  # Recibe un número entero\n",
        "        zstr = str(z)  # Convierte el número a string\n",
        "        if zstr == zstr[::-1]:  # Compara con el string invertido\n",
        "            return True  # Es palíndromo\n",
        "        else:\n",
        "            return False  # No es palíndromo\n",
        "\n",
        "play = Solution()\n",
        "solu = play.is_palindrome(235532)\n",
        "print(solu)"
      ],
      "metadata": {
        "id": "eOlWEdy3p-eJ",
        "colab": {
          "base_uri": "https://localhost:8080/"
        },
        "outputId": "f8aa7e6d-4d19-487d-e6e3-fb58c85e2172"
      },
      "execution_count": 3,
      "outputs": [
        {
          "output_type": "stream",
          "name": "stdout",
          "text": [
            "True\n"
          ]
        }
      ]
    },
    {
      "cell_type": "code",
      "source": [
        "#Argel Jhamir Gonzalez Ontiveros\n",
        "#14571\n",
        "\n",
        "# Ejercicio: Plindromos optimizado\n",
        "#complejidad: O(log10n) lo cual lo hace mas eficiente\n",
        "class Solution:\n",
        "    def is_palindrome(self, x: int) -> bool:\n",
        "        if x < 0:\n",
        "            return False  # Los negativos no pueden ser palíndromos\n",
        "\n",
        "        original = x\n",
        "        reversed_num = 0\n",
        "\n",
        "        # Invertimos el número\n",
        "        while x > 0:\n",
        "            digit = x % 10  # Tomamos el último dígito\n",
        "            reversed_num = reversed_num * 10 + digit  # Lo agregamos al nuevo número\n",
        "            x = x // 10  # Quitamos el último dígito\n",
        "\n",
        "        return original == reversed_num  # Comparamos original con su invers\n",
        "\n",
        "\n",
        "\n",
        "solu=Solution()\n",
        "resultado=solu.is_palindrome(235532)\n",
        "print(resultado)"
      ],
      "metadata": {
        "colab": {
          "base_uri": "https://localhost:8080/"
        },
        "id": "EpAAKOA6rImt",
        "outputId": "a5b87772-90b2-42af-b450-4edd8a92a34e"
      },
      "execution_count": 4,
      "outputs": [
        {
          "output_type": "stream",
          "name": "stdout",
          "text": [
            "True\n"
          ]
        }
      ]
    },
    {
      "cell_type": "markdown",
      "source": [
        "# Remove Element\n"
      ],
      "metadata": {
        "id": "c1WegGkUy5LT"
      }
    },
    {
      "cell_type": "code",
      "source": [
        "#Argel Jhamir Gonzalez Ontiveros\n",
        "#14571\n",
        "\n",
        "#removeelement: Fuerza Bruta\n",
        "#Complejidad: O(n) por lo que no es eeficiente pero es funcional\n",
        "\n",
        "\n",
        "class Solution:\n",
        "    def removeElement(self, nums: list[int], value: int) -> int:\n",
        "        nueva = []  # Lista vacía donde guardamos los valores válidos\n",
        "\n",
        "        for num in nums:  # Recorremos cada número en la lista\n",
        "            if num != value:  # Si el número NO es el que queremos eliminar\n",
        "                nueva.append(num)  # Lo agregamos a la nueva lista\n",
        "\n",
        "        return len(nueva), nueva  # Devolvemos la cantidad y la nueva lista limpia\n",
        "\n",
        "solu = Solution()\n",
        "nums = [3, 2, 2, 3]\n",
        "value = 3\n",
        "resultado = solu.removeElement(nums, value)\n",
        "print(resultado)"
      ],
      "metadata": {
        "colab": {
          "base_uri": "https://localhost:8080/"
        },
        "id": "fWlHHn7rzTQD",
        "outputId": "9df80720-cef9-4d0e-a6e7-5d4a30e4f553"
      },
      "execution_count": 5,
      "outputs": [
        {
          "output_type": "stream",
          "name": "stdout",
          "text": [
            "(2, [2, 2])\n"
          ]
        }
      ]
    },
    {
      "cell_type": "code",
      "source": [
        "#Argel Jhamir Gonzalez Ontiveros\n",
        "#14571\n",
        "\n",
        "#removeelement: optimizado\n",
        "#Complejidad: O(n) por lo que no es eficiente pero es funcional igual al fuerza bruta pero con menos memoria\n",
        "\n",
        "\n",
        "class Solution:\n",
        "    def removeElement(self, nums: list[int], value: int) -> int:\n",
        "        pos = 0  # Índice donde vamos guardando los valores válidos\n",
        "\n",
        "        for i in range(len(nums)):  # Recorremos la lista\n",
        "            if nums[i] != value:  # Si el valor actual no es el que queremos eliminar\n",
        "                nums[pos] = nums[i]  # Lo guardamos en la posición válida\n",
        "                pos += 1  # Avanzamos la posición para el siguiente\n",
        "\n",
        "        return pos, nums[:pos]  # Retornamos la longitud y la lista válida\n",
        "\n",
        "solu = Solution()\n",
        "nums = [3, 2, 2, 3]\n",
        "value = 3\n",
        "resultado = solu.removeElement(nums, value)\n",
        "print(resultado)"
      ],
      "metadata": {
        "colab": {
          "base_uri": "https://localhost:8080/"
        },
        "id": "_GeEUwGq7uVt",
        "outputId": "c27d5290-7115-4a16-febf-ba0193e3ecf1"
      },
      "execution_count": 6,
      "outputs": [
        {
          "output_type": "stream",
          "name": "stdout",
          "text": [
            "(2, [2, 2])\n"
          ]
        }
      ]
    },
    {
      "cell_type": "markdown",
      "source": [
        "# Length of Last Word"
      ],
      "metadata": {
        "id": "35E4HfYek3dd"
      }
    },
    {
      "cell_type": "code",
      "source": [
        "#Argel Jhamir Gonzalez Ontiveros\n",
        "#14571\n",
        "\n",
        "#removeelement: fuerza bruta\n",
        "#Complejidad: O(n) lo que quiere decir que es poco eficiente con listas grandes y espacio o(n) por el split\n",
        "\n",
        "\n",
        "class Solution:\n",
        "    def lenghtOfLastWord(self, s: str) -> int:\n",
        "\n",
        "        palabras = s.split()  #separamos palabras\n",
        "        return len(palabras[-1])  # Tomamos la última y medimos su longitud\n",
        "\n",
        "solu = Solution()\n",
        "resultado = solu.lenghtOfLastWord(\"Hola mia lola abecedario\")\n",
        "print(resultado)\n"
      ],
      "metadata": {
        "colab": {
          "base_uri": "https://localhost:8080/"
        },
        "id": "JAgOO_1LmnMo",
        "outputId": "1c1da37b-8ad7-4f0f-d5cb-15c01d836a4a"
      },
      "execution_count": 7,
      "outputs": [
        {
          "output_type": "stream",
          "name": "stdout",
          "text": [
            "10\n"
          ]
        }
      ]
    },
    {
      "cell_type": "code",
      "source": [
        "#Argel Jhamir Gonzalez Ontiveros\n",
        "#14571\n",
        "\n",
        "#lenghtofLastWord: optimizado\n",
        "#Complejidad: O(n) lo que quiere decir que es poco eficiente con listas grandes y espacio o(1) por que usa variables simples\n",
        "\n",
        "\n",
        "class Solution:\n",
        "    def lengthOfLastWord(self, s: str) -> int:\n",
        "        i = len(s) - 1  # Empezamos desde el final del string\n",
        "        longitud = 0    # Contador de letras\n",
        "\n",
        "        while i >= 0 and s[i] == \" \":  # Saltamos espacios finales\n",
        "            i -= 1\n",
        "\n",
        "        while i >= 0 and s[i] != \" \":  # Contamos letras de la última palabra\n",
        "            longitud += 1\n",
        "            i -= 1\n",
        "\n",
        "        return longitud  # Devolvemos la longitud final\n",
        "\n",
        "solu = Solution()\n",
        "resultado = solu.lengthOfLastWord(\"Hola mia lola abecedario \")\n",
        "print(resultado)  # Debería imprimir 5, que es la longitud de \"mundo\""
      ],
      "metadata": {
        "colab": {
          "base_uri": "https://localhost:8080/"
        },
        "id": "MldyLZpNW3QS",
        "outputId": "7914a277-7afe-4f89-f711-53641387f22b"
      },
      "execution_count": 11,
      "outputs": [
        {
          "output_type": "stream",
          "name": "stdout",
          "text": [
            "10\n"
          ]
        }
      ]
    },
    {
      "cell_type": "markdown",
      "source": [
        "# Plus one"
      ],
      "metadata": {
        "id": "rmKn9eURcFor"
      }
    },
    {
      "cell_type": "code",
      "source": [
        "# Argel Jhamir Gonzalez Ontiveros\n",
        "# 14571\n",
        "\n",
        "# plusOne: fuerza bruta\n",
        "# Complejidad: O(n) tiempopor que tenemos que recorrer el arreglo, O(n) espacio por conversión y split\n",
        "\n",
        "class Solution:\n",
        "    def plusOne(self, digits: list[int]) -> list[int]:\n",
        "        digtstsint = int(''.join(map(str, digits)))  # Convierte la lista a número\n",
        "        digtstsint += 1 # Suma uno\n",
        "        digitsstr = str(digtstsint) # Convierte el número a string\n",
        "        new = list(map(int, digitsstr)) # Convierte cada dígito a entero\n",
        "        return new # Devuelve la nueva lista de enteros\n",
        "\n",
        "solu = Solution()\n",
        "resultado = solu.plusOne([1, 4, 3])\n",
        "print(resultado)"
      ],
      "metadata": {
        "colab": {
          "base_uri": "https://localhost:8080/"
        },
        "id": "obZxXs7yd_LS",
        "outputId": "2aef1ba7-8a4b-417c-a9b5-698032f619b4"
      },
      "execution_count": 9,
      "outputs": [
        {
          "output_type": "stream",
          "name": "stdout",
          "text": [
            "[1, 4, 4]\n"
          ]
        }
      ]
    },
    {
      "cell_type": "code",
      "source": [
        "# Argel Jhamir Gonzalez Ontiveros\n",
        "# 14571\n",
        "\n",
        "# plusOne: óptimo (sin conversiones a int/str)\n",
        "# Complejidad: O(n) tiempo en el peor caso, O(1) espacio\n",
        "\n",
        "class Solution:\n",
        "    def plusOne(self, digits: list[int]) -> list[int]:\n",
        "        n = len(digits)  # Tamaño de la lista\n",
        "\n",
        "        for i in range(n - 1, -1, -1):  # Recorremos desde el final\n",
        "            if digits[i] < 9:\n",
        "                digits[i] += 1  # Sumamos 1 si no es 9\n",
        "                return digits  # No hay acarreo, terminamos\n",
        "            digits[i] = 0  # Si es 9, lo cambiamos a 0 y seguimos\n",
        "\n",
        "        return [1] + digits  # Si todos eran 9, agregamos 1 al inicio\n",
        "\n",
        "solu = Solution()\n",
        "resultado = solu.plusOne([1, 4, 3])\n",
        "print(resultado)  # Salida esperada: [1, 4, 4]\n"
      ],
      "metadata": {
        "colab": {
          "base_uri": "https://localhost:8080/"
        },
        "id": "45oK2tswjZUC",
        "outputId": "ec911f1e-bc5a-41b2-9e62-d6cb4444dcd0"
      },
      "execution_count": 10,
      "outputs": [
        {
          "output_type": "stream",
          "name": "stdout",
          "text": [
            "[1, 4, 4]\n"
          ]
        }
      ]
    },
    {
      "cell_type": "markdown",
      "source": [
        "# Sqrt(x)"
      ],
      "metadata": {
        "id": "ExUbvPzao30t"
      }
    },
    {
      "cell_type": "code",
      "source": [
        "# Argel Jhamir Gonzalez Ontiveros\n",
        "# 14571\n",
        "\n",
        "# mySqrt: fuerza bruta\n",
        "# Complejidad: O(√x), ya que recorremos desde 0 hasta que i*i>x y el espacio O(1), porque no usamos memoria adicional\n",
        "\n",
        "class Solution:\n",
        "    def mySqrt(self, x: int) -> int:\n",
        "        for i in range(x + 1):  # Recorremos desde 0 hasta x (incluyendo x)\n",
        "            if i * i == x:      # Si encontramos la raíz exacta\n",
        "                return i\n",
        "            elif i * i > x:     # Si nos pasamos, devolvemos el anterior\n",
        "                return i - 1\n",
        "\n",
        "solu = Solution()\n",
        "resultado = solu.mySqrt(16)\n",
        "print(resultado)\n"
      ],
      "metadata": {
        "colab": {
          "base_uri": "https://localhost:8080/"
        },
        "id": "nlrOarswpdHH",
        "outputId": "d4ff0a8c-b91e-4e9f-c15e-51a03df62148"
      },
      "execution_count": 12,
      "outputs": [
        {
          "output_type": "stream",
          "name": "stdout",
          "text": [
            "4\n"
          ]
        }
      ]
    },
    {
      "cell_type": "code",
      "source": [
        "# Argel Jhamir Gonzalez Ontiveros\n",
        "# 14571\n",
        "\n",
        "# mySqrt: óptimo (búsqueda binaria)\n",
        "# Complejidad: O(log x), porque dividimos el rango a la mitad en cada paso, espacio O(1), no usamos estructuras adicionales\n",
        "\n",
        "class Solution:\n",
        "    def mySqrt(self, x: int) -> int:\n",
        "        if x < 2:\n",
        "            return x  # Casos especiales: raíz de 0 o 1 es el mismo número\n",
        "\n",
        "        left, right = 0, x\n",
        "\n",
        "        while left <= right:\n",
        "            mid = (left + right) // 2\n",
        "            cuadrado = mid * mid\n",
        "\n",
        "            if cuadrado == x:\n",
        "                return mid  # Raíz exacta\n",
        "            elif cuadrado < x:\n",
        "                left = mid + 1  # Buscar en la mitad derecha\n",
        "            else:\n",
        "                right = mid - 1  # Buscar en la mitad izquierda\n",
        "\n",
        "        return right  # Parte entera de la raíz cuadrada\n",
        "\n",
        "solu = Solution()\n",
        "resultado = solu.mySqrt(16)\n",
        "print(resultado)\n"
      ],
      "metadata": {
        "colab": {
          "base_uri": "https://localhost:8080/"
        },
        "id": "0mwxBxvltMfv",
        "outputId": "46f3a50f-afe9-4b8b-84cd-7eb5eccd68e7"
      },
      "execution_count": 13,
      "outputs": [
        {
          "output_type": "stream",
          "name": "stdout",
          "text": [
            "4\n"
          ]
        }
      ]
    },
    {
      "cell_type": "markdown",
      "source": [
        "# Longest Common Prefix"
      ],
      "metadata": {
        "id": "Xk2CEEcZvMVT"
      }
    },
    {
      "cell_type": "code",
      "source": [
        "# Argel Jhamir Gonzalez Ontiveros\n",
        "# 14571\n",
        "\n",
        "# longestCommonPrefix: fuerza bruta sin while\n",
        "# Complejidad:\n",
        "# - Tiempo: O(n * m), donde n = cantidad de palabras y m = longitud mínima\n",
        "# - Espacio: O(1), porque no usamos estructuras adicionales grandes\n",
        "\n",
        "class Solution:\n",
        "    def longestCommonPrefix(self, strs: list[str]) -> str:\n",
        "        if not strs:\n",
        "            return \"\"  # Si la lista está vacía, no hay nada que comparar\n",
        "\n",
        "        resultado = \"\"  # Aquí construiremos el prefijo común más largo\n",
        "\n",
        "        # Recorremos las letras de la primera palabra, posición por posición\n",
        "        for i in range(len(strs[0])):\n",
        "            letra = strs[0][i]  # Tomamos la letra actual como referencia\n",
        "\n",
        "            # Recorremos las demás palabras para comparar esa letra\n",
        "            for palabra in strs[1:]:\n",
        "                # Si ya no hay letra en esa posición (palabra más corta)\n",
        "                # o si la letra no coincide con la de referencia\n",
        "                if i >= len(palabra) or palabra[i] != letra:\n",
        "                    return resultado  # Terminamos y devolvemos el prefijo acumulado\n",
        "\n",
        "            # Si todas las palabras tenían la misma letra en esta posición, la añadimos\n",
        "            resultado += letra\n",
        "\n",
        "        # Si nunca hubo diferencias, devolvemos todo el prefijo construido\n",
        "        return resultado\n",
        "\n",
        "solu = Solution()\n",
        "resultado = solu.longestCommonPrefix([\"flower\", \"flow\", \"flight\"])\n",
        "print(resultado)\n"
      ],
      "metadata": {
        "colab": {
          "base_uri": "https://localhost:8080/"
        },
        "id": "hg3FMwIdvUit",
        "outputId": "5f1f6d29-6e86-4412-a17b-795e604eaa39"
      },
      "execution_count": 14,
      "outputs": [
        {
          "output_type": "stream",
          "name": "stdout",
          "text": [
            "fl\n"
          ]
        }
      ]
    },
    {
      "cell_type": "code",
      "source": [
        "# Argel Jhamir Gonzalez Ontiveros\n",
        "# 14571\n",
        "\n",
        "# longestCommonPrefix: comparación letra por letra (columna por columna)\n",
        "# Complejidad: Tiempo: O(n * m), n = cantidad de palabras, m = longitud del prefijo común Espacio: O(1), no se usan estructuras adicionales grandes\n",
        "# por lo cual es muy parecido al fuerza bruta\n",
        "class Solution:\n",
        "    def longestCommonPrefix(self, strs: list[str]) -> str:\n",
        "        if not strs:\n",
        "            return \"\"  # Si la lista está vacía, no hay prefijo\n",
        "\n",
        "        for i in range(len(strs[0])):  # Recorremos letras por índice (columna)\n",
        "            letra = strs[0][i]  # Tomamos la letra de referencia\n",
        "\n",
        "            for palabra in strs[1:]:  # Comparamos con todas las demás palabras\n",
        "                # Si la letra no está en la palabra o no coincide\n",
        "                if i >= len(palabra) or palabra[i] != letra:\n",
        "                    return strs[0][:i]  # Devolvemos todo lo que coincidió hasta antes de fallar\n",
        "\n",
        "        return strs[0]  # Si nunca falló, toda la primera palabra es el prefijo común\n"
      ],
      "metadata": {
        "id": "ciz2l_fo0n8j"
      },
      "execution_count": null,
      "outputs": []
    },
    {
      "cell_type": "markdown",
      "source": [
        "# Climb stairs"
      ],
      "metadata": {
        "id": "udW3GCaN00TR"
      }
    },
    {
      "cell_type": "code",
      "source": [
        "# Argel Jhamir Gonzalez Ontiveros\n",
        "# 14571\n",
        "\n",
        "# climbStairs: fuerza bruta\n",
        "# Complejidad:\n",
        "# - Tiempo: O(2^n), por loq ue lo hace menos eficiente\n",
        "# - Espacio: O(n), por la profundidad de la pila\n",
        "\n",
        "class Solution:\n",
        "    def climbStairs(self, n: int) -> int:\n",
        "        # Caso base: si estás en el escalón 0 o 1, solo hay una forma de llegar ahí\n",
        "        if n == 0 or n == 1:\n",
        "            return 1\n",
        "\n",
        "        # Llamada recursiva: suma las formas de subir 1 o 2 peldaños hacia atrás\n",
        "        return self.climbStairs(n - 1) + self.climbStairs(n - 2)\n",
        "\n",
        "\n",
        "solu = Solution()\n",
        "resultado = solu.climbStairs(4)\n",
        "print(resultado)\n"
      ],
      "metadata": {
        "colab": {
          "base_uri": "https://localhost:8080/"
        },
        "id": "e_8fECNL2Ekx",
        "outputId": "0396af0d-8bb7-4bb3-c407-c897e94a0b55"
      },
      "execution_count": 18,
      "outputs": [
        {
          "output_type": "stream",
          "name": "stdout",
          "text": [
            "5\n"
          ]
        }
      ]
    },
    {
      "cell_type": "code",
      "source": [
        "# Argel Jhamir Gonzalez Ontiveros\n",
        "# 14571\n",
        "\n",
        "# climbStairs: solución optimizada (programación dinámica)\n",
        "# Complejidad:\n",
        "# - Tiempo: O(n), solo recorremos del 3 hasta n\n",
        "# - Espacio: O(1), solo usamos 2 variables (no arreglos)\n",
        "\n",
        "class Solution:\n",
        "    def climbStairs(self, n: int) -> int:\n",
        "        if n == 0 or n == 1:\n",
        "            return 1  # Solo hay 1 forma de subir 0 o 1 escalón\n",
        "\n",
        "        a, b = 1, 1  # a = formas para n-2, b = formas para n-1\n",
        "\n",
        "        for _ in range(2, n + 1):  # Desde el peldaño 2 hasta n\n",
        "            a, b = b, a + b  # b = formas actuales, a = formas anteriores\n",
        "\n",
        "        return b  # b es el resultado final: formas para llegar a n\n",
        "\n",
        "solu=Solution()\n",
        "resultado=solu.climbStairs(4)\n",
        "print(resultado)"
      ],
      "metadata": {
        "colab": {
          "base_uri": "https://localhost:8080/"
        },
        "id": "mvV5pbnB8_e-",
        "outputId": "00539954-46e0-4fb4-f752-01e0022a9a71"
      },
      "execution_count": 16,
      "outputs": [
        {
          "output_type": "stream",
          "name": "stdout",
          "text": [
            "5\n"
          ]
        }
      ]
    },
    {
      "cell_type": "markdown",
      "source": [
        "# Two Product"
      ],
      "metadata": {
        "id": "j3nuBC8u-q2B"
      }
    },
    {
      "cell_type": "code",
      "source": [
        "# Argel Jhamir Gonzalez Ontiveros\n",
        "# 14571\n",
        "\n",
        "# twoProduct: fuerza bruta\n",
        "# Complejidad:\n",
        "# - Tiempo: O(n²), porque usamos dos fors\n",
        "# - Espacio: O(1), porque no se usan estructuras adicionales\n",
        "\n",
        "class Solution:\n",
        "    def twoProduct(self, nums: list[int], target: int) -> list[int]:\n",
        "        # Recorremos cada número en la lista\n",
        "        for i in range(len(nums)):\n",
        "            # Comparamos con los siguientes para evitar repetidos o consigo mismo\n",
        "            for j in range(i + 1, len(nums)):\n",
        "                # Si el producto da el target, devolvemos los índices\n",
        "                if nums[i] * nums[j] == target:\n",
        "                    return [i, j]\n",
        "\n",
        "\n",
        "solu = Solution()\n",
        "r = solu.twoProduct([4, 8, 9, 24, 8], 64)\n",
        "print(r)\n"
      ],
      "metadata": {
        "id": "S-1lurQ2Azv7"
      },
      "execution_count": null,
      "outputs": []
    },
    {
      "cell_type": "code",
      "source": [
        "# Argel Jhamir Gonzalez Ontiveros\n",
        "# 14571\n",
        "\n",
        "# twoProduct: versión optimizada usando diccionario\n",
        "# Complejidad:\n",
        "# - Tiempo: O(n), recorremos la lista una sola vez\n",
        "# - Espacio: O(n), usamos un diccionario para guardar elementos visitados\n",
        "\n",
        "class Solution:\n",
        "    def twoProduct(self, nums: list[int], target: int) -> list[int]:\n",
        "        mapa = {}  # Diccionario para guardar valor: índice\n",
        "\n",
        "        for i, num in enumerate(nums):  # Recorremos con índice y valor\n",
        "            if num != 0 and target % num == 0:  # Verificamos que el complemento sea exacto\n",
        "                complemento = target // num  # Buscamos el número que multiplicado con num da el target\n",
        "                if complemento in mapa:  # Si ya vimos ese número, devolvemos ambos índices\n",
        "                    return [mapa[complemento], i]\n",
        "            mapa[num] = i  # Guardamos el número actual con su índice\n",
        "\n",
        "# Prueba del método\n",
        "solu = Solution()\n",
        "r = solu.twoProduct([4, 8, 9, 24, 8], 64)\n",
        "print(r)  # Debería imprimir [1, 4] porque 8 * 8 = 64"
      ],
      "metadata": {
        "id": "hj9Kh2SXBSoA"
      },
      "execution_count": null,
      "outputs": []
    },
    {
      "cell_type": "markdown",
      "source": [
        "# Valid Parentheses"
      ],
      "metadata": {
        "id": "C3oP1ILuBnYQ"
      }
    },
    {
      "cell_type": "code",
      "source": [
        "# Argel Jhamir Gonzalez Ontiveros\n",
        "# 14571\n",
        "\n",
        "# isValid: fuerza bruta\n",
        "# Complejidad:\n",
        "# - Tiempo: O(n), recorre cada carácter una sola vez\n",
        "# - Espacio: O(n), en el peor caso todos los paréntesis se apilan\n",
        "\n",
        "class Solution:\n",
        "    def isValid(self, s: str) -> bool:\n",
        "        stack = []  # Creamos la pila vacía\n",
        "\n",
        "        for c in s:  # Recorremos cada carácter de la cadena\n",
        "            if c == '(' or c == '[' or c == '{':  # Si es paréntesis de apertura\n",
        "                stack.append(c)  # Lo guardamos en la pila\n",
        "            else:  # Si es paréntesis de cierre\n",
        "                if not stack:  # Si no hay con qué emparejar, es inválido\n",
        "                    return False\n",
        "                top = stack.pop()  # Sacamos el último abierto\n",
        "                # Si no hace par correcto, devolvemos False\n",
        "                if (c == ')' and top != '(') or \\\n",
        "                   (c == ']' and top != '[') or \\\n",
        "                   (c == '}' and top != '{'):\n",
        "                    return False\n",
        "\n",
        "        return not stack  # Si la pila quedó vacía, es válido\n",
        "\n",
        "# Prueba del método\n",
        "solu = Solution()\n",
        "print(solu.isValid(\"(){}[]\"))   # True\n",
        "print(solu.isValid(\"({[})]\"))   # False\n",
        "print(solu.isValid(\"(()\"))      # False\n",
        "print(solu.isValid(\"{[()]}\"))   # True\n"
      ],
      "metadata": {
        "id": "K7GQrE1jC9dZ"
      },
      "execution_count": null,
      "outputs": []
    },
    {
      "cell_type": "code",
      "source": [
        "# Argel Jhamir Gonzalez Ontiveros\n",
        "# 14571\n",
        "\n",
        "# isValid: optmizado\n",
        "# Complejidad:\n",
        "# - Tiempo: O(n), recorremos la cadena una sola vez\n",
        "# - Espacio: O(n), en el peor caso se guardan todos los paréntesis de apertura\n",
        "\n",
        "class Solution:\n",
        "    def isValid(self, s: str) -> bool:\n",
        "        stack = []  # Pila vacía para almacenar los abiertos\n",
        "        pares = {')': '(', ']': '[', '}': '{'}  # Diccionario de pares válidos\n",
        "\n",
        "        for c in s:  # Recorremos cada carácter\n",
        "            if c in pares.values():  # Si es de apertura, lo metemos a la pila\n",
        "                stack.append(c)\n",
        "            elif c in pares:  # Si es de cierre\n",
        "                if not stack or stack[-1] != pares[c]:  # Si la pila está vacía o no hace par\n",
        "                    return False\n",
        "                stack.pop()  # Eliminamos el par correcto\n",
        "            else:\n",
        "                return False  # Si hay otro carácter no válido, retornamos False\n",
        "\n",
        "        return not stack  # Al final, la pila debe estar vacía si todo estuvo emparejado\n",
        "\n",
        "# Prueba del método\n",
        "solu = Solution()\n",
        "print(solu.isValid(\"(){}[]\"))   # True\n",
        "print(solu.isValid(\"({[})]\"))   # False\n",
        "print(solu.isValid(\"(()\"))      # False\n",
        "print(solu.isValid(\"{[()]}\"))   # True\n"
      ],
      "metadata": {
        "id": "NNYk09tVE5Fw"
      },
      "execution_count": null,
      "outputs": []
    }
  ]
}